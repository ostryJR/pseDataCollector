{
 "cells": [
  {
   "cell_type": "code",
   "execution_count": 11,
   "metadata": {},
   "outputs": [],
   "source": [
    "import requests\n",
    "import json\n",
    "import mysql.connector\n",
    "import hashlib as hs\n",
    "\n",
    "import dbconnect as dbc"
   ]
  },
  {
   "cell_type": "code",
   "execution_count": 12,
   "metadata": {},
   "outputs": [],
   "source": [
    "try:\n",
    "    mydb = mysql.connector.connect(\n",
    "        host=dbc.host,\n",
    "        port=dbc.port,\n",
    "        user=dbc.user,\n",
    "        password=dbc.password#.encode(),\n",
    "    )\n",
    "except mysql.connector.Error as err:\n",
    "    print(err)"
   ]
  },
  {
   "cell_type": "code",
   "execution_count": 13,
   "metadata": {},
   "outputs": [
    {
     "name": "stdout",
     "output_type": "stream",
     "text": [
      "{'status': '0', 'timestamp': 1711648530376, 'data': {'przesyly': [{'wartosc': 594, 'rownolegly': False, 'wartosc_plan': 600, 'id': 'SE'}, {'wartosc': 1815, 'rownolegly': True, 'wartosc_plan': 1263, 'id': 'DE'}, {'wartosc': -542, 'rownolegly': True, 'wartosc_plan': 93, 'id': 'CZ'}, {'wartosc': -145, 'rownolegly': True, 'wartosc_plan': -198, 'id': 'SK'}, {'wartosc': -192, 'rownolegly': False, 'wartosc_plan': -255, 'id': 'UA'}, {'wartosc': 0, 'rownolegly': False, 'wartosc_plan': 0, 'id': 'LT'}], 'podsumowanie': {'wodne': 1349, 'wiatrowe': 4604, 'PV': 0, 'generacja': 21151, 'zapotrzebowanie': 22725, 'czestotliwosc': 49.978, 'inne': 0, 'cieplne': 15199}}}\n"
     ]
    }
   ],
   "source": [
    "url = 'https://www.pse.pl/transmissionMapService'\n",
    "resp = requests.get(url=url).json()\n",
    "print(resp)"
   ]
  },
  {
   "cell_type": "code",
   "execution_count": 14,
   "metadata": {},
   "outputs": [],
   "source": [
    "respDump = json.dumps(resp)\n",
    "data = json.loads(respDump)\n",
    "\n",
    "status = data['status']\n",
    "timestamp = data['timestamp']\n",
    "unit = \"MW\"\n",
    "\n",
    "gene = data['data']['podsumowanie']\n",
    "heatPower = gene['cieplne']#like coal, gas, NOT heat from earth\n",
    "water = gene['wodne']\n",
    "wind = gene['wiatrowe']\n",
    "solar = gene['PV']\n",
    "other = gene['inne']\n",
    "\n",
    "production = gene['generacja']\n",
    "consumption = gene['zapotrzebowanie']\n",
    "frequency = gene['czestotliwosc']\n",
    "\n",
    "transfer = data['data']['przesyly']\n",
    "SE = [transfer[0]['wartosc'], transfer[0]['rownolegly'], transfer[0]['wartosc_plan']]\n",
    "DE = [transfer[1]['wartosc'], transfer[1]['rownolegly'], transfer[1]['wartosc_plan']]\n",
    "CZ = [transfer[2]['wartosc'], transfer[2]['rownolegly'], transfer[2]['wartosc_plan']]\n",
    "SK = [transfer[3]['wartosc'], transfer[3]['rownolegly'], transfer[3]['wartosc_plan']]\n",
    "UA = [transfer[4]['wartosc'], transfer[4]['rownolegly'], transfer[4]['wartosc_plan']]\n",
    "LT = [transfer[5]['wartosc'], transfer[5]['rownolegly'], transfer[5]['wartosc_plan']]"
   ]
  },
  {
   "cell_type": "code",
   "execution_count": 17,
   "metadata": {},
   "outputs": [
    {
     "name": "stdout",
     "output_type": "stream",
     "text": [
      "INSERT INTO PSEdata.data VALUES (0,1711648530376,\"MW\",15199,1349,4604,0,0,21151,22725,49.978, 594, 600, False, 1815, 1263, True, -542, 93, True, -145, -198, True, -192, -255, False, 0, 0, False, 0);\n",
      "1 record inserted.\n"
     ]
    },
    {
     "data": {
      "text/plain": [
       "True"
      ]
     },
     "execution_count": 17,
     "metadata": {},
     "output_type": "execute_result"
    }
   ],
   "source": [
    "dbcursor = mydb.cursor()\n",
    "\n",
    "sql = f'INSERT INTO PSEdata.data VALUES ({status},{timestamp},\"{unit}\",{heatPower},{water},{wind},{solar},{other},{production},{consumption},{frequency}, {SE[0]}, {SE[2]}, {SE[1]}, {DE[0]}, {DE[2]}, {DE[1]}, {CZ[0]}, {CZ[2]}, {CZ[1]}, {SK[0]}, {SK[2]}, {SK[1]}, {UA[0]}, {UA[2]}, {UA[1]}, {LT[0]}, {LT[2]}, {LT[1]}, 0);'\n",
    "print(sql)\n",
    "dbcursor.execute(sql)\n",
    "mydb.commit()\n",
    "print(dbcursor.rowcount, \"record inserted.\")\n",
    "\n",
    "dbcursor.close()"
   ]
  }
 ],
 "metadata": {
  "kernelspec": {
   "display_name": "Python 3",
   "language": "python",
   "name": "python3"
  },
  "language_info": {
   "codemirror_mode": {
    "name": "ipython",
    "version": 3
   },
   "file_extension": ".py",
   "mimetype": "text/x-python",
   "name": "python",
   "nbconvert_exporter": "python",
   "pygments_lexer": "ipython3",
   "version": "3.9.6"
  }
 },
 "nbformat": 4,
 "nbformat_minor": 2
}
