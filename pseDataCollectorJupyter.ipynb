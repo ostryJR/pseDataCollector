{
 "cells": [
  {
   "cell_type": "code",
   "execution_count": 36,
   "metadata": {},
   "outputs": [
    {
     "ename": "ModuleNotFoundError",
     "evalue": "No module named 'mysql'",
     "output_type": "error",
     "traceback": [
      "\u001b[0;31m---------------------------------------------------------------------------\u001b[0m",
      "\u001b[0;31mModuleNotFoundError\u001b[0m                       Traceback (most recent call last)",
      "Cell \u001b[0;32mIn[36], line 3\u001b[0m\n\u001b[1;32m      1\u001b[0m \u001b[38;5;28;01mimport\u001b[39;00m \u001b[38;5;21;01mrequests\u001b[39;00m\n\u001b[1;32m      2\u001b[0m \u001b[38;5;28;01mimport\u001b[39;00m \u001b[38;5;21;01mjson\u001b[39;00m\n\u001b[0;32m----> 3\u001b[0m \u001b[38;5;28;01mimport\u001b[39;00m \u001b[38;5;21;01mmysql\u001b[39;00m\u001b[38;5;21;01m.\u001b[39;00m\u001b[38;5;21;01mconnector\u001b[39;00m\n",
      "\u001b[0;31mModuleNotFoundError\u001b[0m: No module named 'mysql'"
     ]
    }
   ],
   "source": [
    "import requests\n",
    "import json\n",
    "import mysql.connector\n"
   ]
  },
  {
   "cell_type": "code",
   "execution_count": 29,
   "metadata": {},
   "outputs": [
    {
     "name": "stdout",
     "output_type": "stream",
     "text": [
      "{'status': '0', 'timestamp': 1711631641312, 'data': {'przesyly': [{'wartosc': -614, 'rownolegly': False, 'wartosc_plan': -600, 'id': 'SE'}, {'wartosc': 1490, 'rownolegly': True, 'wartosc_plan': 1405, 'id': 'DE'}, {'wartosc': -1174, 'rownolegly': True, 'wartosc_plan': -263, 'id': 'CZ'}, {'wartosc': -256, 'rownolegly': True, 'wartosc_plan': -542, 'id': 'SK'}, {'wartosc': 22, 'rownolegly': False, 'wartosc_plan': 0, 'id': 'UA'}, {'wartosc': 0, 'rownolegly': False, 'wartosc_plan': 0, 'id': 'LT'}], 'podsumowanie': {'wodne': 302, 'wiatrowe': 5845, 'PV': 4736, 'generacja': 23603, 'zapotrzebowanie': 23104, 'czestotliwosc': 50.023, 'inne': 0, 'cieplne': 12720}}}\n"
     ]
    }
   ],
   "source": [
    "url = 'https://www.pse.pl/transmissionMapService'\n",
    "resp = requests.get(url=url).json()\n",
    "print(resp)"
   ]
  },
  {
   "cell_type": "code",
   "execution_count": 34,
   "metadata": {},
   "outputs": [
    {
     "name": "stdout",
     "output_type": "stream",
     "text": [
      "{'status': '0', 'timestamp': 1711631641312, 'data': {'przesyly': [{'wartosc': -614, 'rownolegly': False, 'wartosc_plan': -600, 'id': 'SE'}, {'wartosc': 1490, 'rownolegly': True, 'wartosc_plan': 1405, 'id': 'DE'}, {'wartosc': -1174, 'rownolegly': True, 'wartosc_plan': -263, 'id': 'CZ'}, {'wartosc': -256, 'rownolegly': True, 'wartosc_plan': -542, 'id': 'SK'}, {'wartosc': 22, 'rownolegly': False, 'wartosc_plan': 0, 'id': 'UA'}, {'wartosc': 0, 'rownolegly': False, 'wartosc_plan': 0, 'id': 'LT'}], 'podsumowanie': {'wodne': 302, 'wiatrowe': 5845, 'PV': 4736, 'generacja': 23603, 'zapotrzebowanie': 23104, 'czestotliwosc': 50.023, 'inne': 0, 'cieplne': 12720}}}\n",
      "1711631641312\n"
     ]
    }
   ],
   "source": [
    "respDump = json.dumps(resp)\n",
    "data = json.loads(respDump)\n",
    "print(data)\n",
    "print(data['timestamp'])"
   ]
  }
 ],
 "metadata": {
  "kernelspec": {
   "display_name": "Python 3",
   "language": "python",
   "name": "python3"
  },
  "language_info": {
   "codemirror_mode": {
    "name": "ipython",
    "version": 3
   },
   "file_extension": ".py",
   "mimetype": "text/x-python",
   "name": "python",
   "nbconvert_exporter": "python",
   "pygments_lexer": "ipython3",
   "version": "3.9.6"
  }
 },
 "nbformat": 4,
 "nbformat_minor": 2
}
