{
 "cells": [
  {
   "cell_type": "code",
   "execution_count": 1,
   "metadata": {},
   "outputs": [
    {
     "name": "stderr",
     "output_type": "stream",
     "text": [
      "/Users/miki/Library/Python/3.9/lib/python/site-packages/urllib3/__init__.py:35: NotOpenSSLWarning: urllib3 v2 only supports OpenSSL 1.1.1+, currently the 'ssl' module is compiled with 'LibreSSL 2.8.3'. See: https://github.com/urllib3/urllib3/issues/3020\n",
      "  warnings.warn(\n"
     ]
    }
   ],
   "source": [
    "import requests\n",
    "import json\n",
    "import mysql.connector\n"
   ]
  },
  {
   "cell_type": "code",
   "execution_count": 4,
   "metadata": {},
   "outputs": [
    {
     "name": "stdout",
     "output_type": "stream",
     "text": [
      "{'status': '0', 'timestamp': 1711635331122, 'data': {'przesyly': [{'wartosc': 0, 'rownolegly': False, 'wartosc_plan': 0, 'id': 'SE'}, {'wartosc': 952, 'rownolegly': True, 'wartosc_plan': 1245, 'id': 'DE'}, {'wartosc': -728, 'rownolegly': True, 'wartosc_plan': -544, 'id': 'CZ'}, {'wartosc': -86, 'rownolegly': True, 'wartosc_plan': -700, 'id': 'SK'}, {'wartosc': 35, 'rownolegly': False, 'wartosc_plan': 0, 'id': 'UA'}, {'wartosc': 0, 'rownolegly': False, 'wartosc_plan': 0, 'id': 'LT'}], 'podsumowanie': {'wodne': 305, 'wiatrowe': 5803, 'PV': 4090, 'generacja': 22163, 'zapotrzebowanie': 22376, 'czestotliwosc': 49.984, 'inne': 0, 'cieplne': 11963}}}\n"
     ]
    }
   ],
   "source": [
    "url = 'https://www.pse.pl/transmissionMapService'\n",
    "resp = requests.get(url=url).json()\n",
    "print(resp)"
   ]
  },
  {
   "cell_type": "code",
   "execution_count": 3,
   "metadata": {},
   "outputs": [
    {
     "name": "stdout",
     "output_type": "stream",
     "text": [
      "{'status': '0', 'timestamp': 1711634595442, 'data': {'przesyly': [{'wartosc': -204, 'rownolegly': False, 'wartosc_plan': 0, 'id': 'SE'}, {'wartosc': 868, 'rownolegly': True, 'wartosc_plan': 1245, 'id': 'DE'}, {'wartosc': -751, 'rownolegly': True, 'wartosc_plan': -544, 'id': 'CZ'}, {'wartosc': -132, 'rownolegly': True, 'wartosc_plan': -700, 'id': 'SK'}, {'wartosc': 48, 'rownolegly': False, 'wartosc_plan': 0, 'id': 'UA'}, {'wartosc': 0, 'rownolegly': False, 'wartosc_plan': 0, 'id': 'LT'}], 'podsumowanie': {'wodne': 306, 'wiatrowe': 5741, 'PV': 4251, 'generacja': 22102, 'zapotrzebowanie': 21956, 'czestotliwosc': 50.016, 'inne': 0, 'cieplne': 11805}}}\n",
      "1711634595442\n"
     ]
    }
   ],
   "source": [
    "respDump = json.dumps(resp)\n",
    "data = json.loads(respDump)\n",
    "print(data)\n",
    "print(data['timestamp'])"
   ]
  }
 ],
 "metadata": {
  "kernelspec": {
   "display_name": "Python 3",
   "language": "python",
   "name": "python3"
  },
  "language_info": {
   "codemirror_mode": {
    "name": "ipython",
    "version": 3
   },
   "file_extension": ".py",
   "mimetype": "text/x-python",
   "name": "python",
   "nbconvert_exporter": "python",
   "pygments_lexer": "ipython3",
   "version": "3.9.6"
  }
 },
 "nbformat": 4,
 "nbformat_minor": 2
}
